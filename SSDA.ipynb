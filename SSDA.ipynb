{
 "cells": [
  {
   "cell_type": "markdown",
   "metadata": {},
   "source": [
    "## Introduction"
   ]
  },
  {
   "cell_type": "markdown",
   "metadata": {},
   "source": [
    "In this project we will create a Stacked Sparse Denoising Autoencoder (SSDA) with the purpose of denoising grayscale images.\n",
    "\n",
    "This SSDA model is made up of two autoencoders. Rather than training the entire model at once, we will train the two autoencoder layers individually, save their weights, and then use those weights to initialize the stacked autoencoder model.\n",
    "\n",
    "A single autoencoder model includes an input layer, an encoding layer and a decoding layer. After training the first autoencoder and saving its weights, we run the original clean and noisy patches through the input and encoding layers of our training model. The output patches of this model become the input patches to the second autoencoder’s training model.\n",
    "\n",
    "We train the fully assembled SSDA model by initializing the two encoding layers to the weights saved from our individually trained autoencoder models. We provide the trained SSDA model with noisy test images and evaluate its performance."
   ]
  },
  {
   "cell_type": "markdown",
   "metadata": {},
   "source": [
    "### Imports"
   ]
  },
  {
   "cell_type": "code",
   "execution_count": 1,
   "metadata": {},
   "outputs": [
    {
     "name": "stderr",
     "output_type": "stream",
     "text": [
      "C:\\ProgramData\\Anaconda3\\lib\\site-packages\\h5py\\__init__.py:34: FutureWarning: Conversion of the second argument of issubdtype from `float` to `np.floating` is deprecated. In future, it will be treated as `np.float64 == np.dtype(float).type`.\n",
      "  from ._conv import register_converters as _register_converters\n"
     ]
    }
   ],
   "source": [
    "import tensorflow as tf"
   ]
  },
  {
   "cell_type": "code",
   "execution_count": 2,
   "metadata": {},
   "outputs": [
    {
     "name": "stderr",
     "output_type": "stream",
     "text": [
      "Using TensorFlow backend.\n"
     ]
    }
   ],
   "source": [
    "from keras.layers import Input, Dense"
   ]
  },
  {
   "cell_type": "code",
   "execution_count": 3,
   "metadata": {
    "collapsed": true
   },
   "outputs": [],
   "source": [
    "from keras.models import Model"
   ]
  },
  {
   "cell_type": "code",
   "execution_count": 4,
   "metadata": {
    "collapsed": true
   },
   "outputs": [],
   "source": [
    "import numpy as np"
   ]
  },
  {
   "cell_type": "code",
   "execution_count": 5,
   "metadata": {
    "collapsed": true
   },
   "outputs": [],
   "source": [
    "import os"
   ]
  },
  {
   "cell_type": "code",
   "execution_count": 6,
   "metadata": {
    "collapsed": true
   },
   "outputs": [],
   "source": [
    "import cv2"
   ]
  },
  {
   "cell_type": "code",
   "execution_count": 7,
   "metadata": {
    "collapsed": true
   },
   "outputs": [],
   "source": [
    "import matplotlib.pyplot as plt"
   ]
  },
  {
   "cell_type": "markdown",
   "metadata": {},
   "source": [
    "### Paths to training, validating and testing data\n",
    "\n",
    "For this assignment, we will use images from the Berkeley Segmentation Data Set and Benchmarks 500 (BSDS500). The BSDS500 dataset provides three categories of images: train, val, and test, which we will use for training, validating, and testing the models.\n",
    "https://www2.eecs.berkeley.edu/Research/Projects/CS/vision/grouping/resources.html"
   ]
  },
  {
   "cell_type": "code",
   "execution_count": 8,
   "metadata": {
    "collapsed": true
   },
   "outputs": [],
   "source": [
    "path_folder = \".\\BSR\"\n",
    "path_train_img = os.path.join(path_folder, \"train\")\n",
    "path_val_img = os.path.join(path_folder, \"val\")\n",
    "path_test_img = os.path.join(path_folder, \"test\")"
   ]
  },
  {
   "cell_type": "markdown",
   "metadata": {},
   "source": [
    "## Patches\n",
    "To reduce the dimensionality of the data, we will convert the images to greyscale.\n",
    "\n",
    "For each image in the train, validate, and test datasets, we will create clean and noisy patches using a window size of 8x8 and a step size of 8.\n",
    "\n",
    "Each noisy patch is created by applying random gaussian noise to its equivalent clean patch. Set the seed variable to allow comparison between program executions."
   ]
  },
  {
   "cell_type": "markdown",
   "metadata": {},
   "source": [
    "### Method for Sliding window"
   ]
  },
  {
   "cell_type": "code",
   "execution_count": 9,
   "metadata": {
    "collapsed": true
   },
   "outputs": [],
   "source": [
    "def sliding_window(image, window_shape, step_size):\n",
    "    rows = image.shape[0]\n",
    "    cols = image.shape[1]\n",
    "    for x in range(0, rows, step_size):\n",
    "        for y in range(0, cols, step_size):\n",
    "            yield(x, y, image[x:x+window_shape[0], y:y+window_shape[1]])\n",
    "            "
   ]
  },
  {
   "cell_type": "markdown",
   "metadata": {},
   "source": [
    "### Method for Creating patches"
   ]
  },
  {
   "cell_type": "code",
   "execution_count": 10,
   "metadata": {
    "collapsed": true
   },
   "outputs": [],
   "source": [
    "def create_clean_patches(path_images, window_shape, step_size):\n",
    "    patches = []\n",
    "    print ('Creating CLEAN ' + str(window_shape[0]) + '*' + str(window_shape[1]) + ' patches for images in ' + path_images)\n",
    "    for i, filename in enumerate(os.listdir(path_images)):\n",
    "        image = cv2.imread(path_images + os.path.sep + filename, cv2.IMREAD_GRAYSCALE)\n",
    "        for (x, y, window) in sliding_window(image, window_shape, step_size):\n",
    "            if(window.shape == window_shape):\n",
    "                patches.append(window.flatten())\n",
    "    print ('All Patched Created added to list')\n",
    "    print()\n",
    "    return np.array(patches)"
   ]
  },
  {
   "cell_type": "code",
   "execution_count": 11,
   "metadata": {
    "collapsed": true
   },
   "outputs": [],
   "source": [
    "#Citation: http://www.magikcode.com/?p=240\n",
    "def add_gaussian_noise(image_in, noise_sigma):\n",
    "    temp_image = np.float64(np.copy(image_in))\n",
    "\n",
    "    h = temp_image.shape[0]\n",
    "    w = temp_image.shape[1]\n",
    "    np.random.seed(123456789)\n",
    "    noise = np.random.randn(h, w) * noise_sigma\n",
    "\n",
    "    noisy_image = np.zeros(temp_image.shape, np.float64)\n",
    "    if len(temp_image.shape) == 2:\n",
    "        noisy_image = temp_image + noise\n",
    "    else:\n",
    "        noisy_image[:,:,0] = temp_image[:,:,0] + noise\n",
    "        noisy_image[:,:,1] = temp_image[:,:,1] + noise\n",
    "        noisy_image[:,:,2] = temp_image[:,:,2] + noise\n",
    "\n",
    "    return noisy_image"
   ]
  },
  {
   "cell_type": "code",
   "execution_count": 12,
   "metadata": {
    "collapsed": true
   },
   "outputs": [],
   "source": [
    "def create_noisy_patches(path_images, window_shape, step_size):\n",
    "    patches = []\n",
    "    print ('Creating NOISY ' + str(window_shape[0]) + '*' + str(window_shape[1]) + ' patches for images in ' + path_images)\n",
    "    for i, filename in enumerate(os.listdir(path_images)):\n",
    "        image = cv2.imread(path_images + os.path.sep + filename, cv2.IMREAD_GRAYSCALE)\n",
    "        #add noise to image\n",
    "        image = add_gaussian_noise(image, 25)\n",
    "        for (x, y, window) in sliding_window(image, window_shape, step_size):\n",
    "            if(window.shape == window_shape):\n",
    "                patches.append(window.flatten())\n",
    "    print ('All Patched Created added to list')\n",
    "    print()\n",
    "    return np.array(patches)"
   ]
  },
  {
   "cell_type": "markdown",
   "metadata": {},
   "source": [
    "### Creating Patches"
   ]
  },
  {
   "cell_type": "code",
   "execution_count": 13,
   "metadata": {
    "collapsed": true
   },
   "outputs": [],
   "source": [
    "window_shape = (8,8)\n",
    "step_size = 8"
   ]
  },
  {
   "cell_type": "markdown",
   "metadata": {},
   "source": [
    "#### Clean Patches"
   ]
  },
  {
   "cell_type": "code",
   "execution_count": 14,
   "metadata": {},
   "outputs": [
    {
     "name": "stdout",
     "output_type": "stream",
     "text": [
      "Creating CLEAN 8*8 patches for images in .\\BSR\\train\n",
      "All Patched Created added to list\n",
      "\n"
     ]
    }
   ],
   "source": [
    "clean_patches_train_8 = create_clean_patches(path_train_img, window_shape, step_size)"
   ]
  },
  {
   "cell_type": "code",
   "execution_count": 15,
   "metadata": {},
   "outputs": [
    {
     "name": "stdout",
     "output_type": "stream",
     "text": [
      "Creating CLEAN 8*8 patches for images in .\\BSR\\val\n",
      "All Patched Created added to list\n",
      "\n"
     ]
    }
   ],
   "source": [
    "clean_patches_val_8 = create_clean_patches(path_val_img, window_shape, step_size)"
   ]
  },
  {
   "cell_type": "code",
   "execution_count": 16,
   "metadata": {},
   "outputs": [
    {
     "name": "stdout",
     "output_type": "stream",
     "text": [
      "Creating CLEAN 8*8 patches for images in .\\BSR\\test\n",
      "All Patched Created added to list\n",
      "\n"
     ]
    }
   ],
   "source": [
    "clean_patches_test_8 = create_clean_patches(path_test_img, window_shape, step_size)"
   ]
  },
  {
   "cell_type": "markdown",
   "metadata": {},
   "source": [
    "#### Noisy Patches"
   ]
  },
  {
   "cell_type": "code",
   "execution_count": 17,
   "metadata": {},
   "outputs": [
    {
     "name": "stdout",
     "output_type": "stream",
     "text": [
      "Creating NOISY 8*8 patches for images in .\\BSR\\train\n",
      "All Patched Created added to list\n",
      "\n"
     ]
    }
   ],
   "source": [
    "noisy_patches_train_8 = create_noisy_patches(path_train_img, window_shape, step_size)"
   ]
  },
  {
   "cell_type": "code",
   "execution_count": 18,
   "metadata": {},
   "outputs": [
    {
     "name": "stdout",
     "output_type": "stream",
     "text": [
      "Creating NOISY 8*8 patches for images in .\\BSR\\val\n",
      "All Patched Created added to list\n",
      "\n"
     ]
    }
   ],
   "source": [
    "noisy_patches_val_8 = create_noisy_patches(path_val_img, window_shape, step_size)"
   ]
  },
  {
   "cell_type": "code",
   "execution_count": 19,
   "metadata": {},
   "outputs": [
    {
     "name": "stdout",
     "output_type": "stream",
     "text": [
      "Creating NOISY 8*8 patches for images in .\\BSR\\test\n",
      "All Patched Created added to list\n",
      "\n"
     ]
    }
   ],
   "source": [
    "noisy_patches_test_8 = create_noisy_patches(path_test_img, window_shape, step_size)"
   ]
  },
  {
   "cell_type": "markdown",
   "metadata": {},
   "source": [
    "#### Checking patches shape"
   ]
  },
  {
   "cell_type": "code",
   "execution_count": 20,
   "metadata": {},
   "outputs": [
    {
     "name": "stdout",
     "output_type": "stream",
     "text": [
      "(480000, 64)\n",
      "(240000, 64)\n",
      "(480000, 64)\n",
      "(480000, 64)\n",
      "(240000, 64)\n",
      "(480000, 64)\n"
     ]
    }
   ],
   "source": [
    "print (clean_patches_train_8.shape)\n",
    "print (clean_patches_val_8.shape)\n",
    "print (clean_patches_test_8.shape)\n",
    "\n",
    "print (noisy_patches_train_8.shape)\n",
    "print (noisy_patches_val_8.shape)\n",
    "print (noisy_patches_test_8.shape)"
   ]
  },
  {
   "cell_type": "markdown",
   "metadata": {},
   "source": [
    "#### Normalizing patches"
   ]
  },
  {
   "cell_type": "code",
   "execution_count": 21,
   "metadata": {
    "collapsed": true
   },
   "outputs": [],
   "source": [
    "clean_patches_train_8 = clean_patches_train_8.astype('float32') / 255.\n",
    "clean_patches_val_8 = clean_patches_val_8.astype('float32') / 255.\n",
    "clean_patches_test_8 = clean_patches_test_8.astype('float32') / 255."
   ]
  },
  {
   "cell_type": "code",
   "execution_count": 22,
   "metadata": {
    "collapsed": true
   },
   "outputs": [],
   "source": [
    "noisy_patches_train_8 = noisy_patches_train_8.astype('float32') / 255.\n",
    "noisy_patches_val_8 = noisy_patches_val_8.astype('float32') / 255.\n",
    "noisy_patches_test_8 = noisy_patches_test_8.astype('float32') / 255."
   ]
  },
  {
   "cell_type": "markdown",
   "metadata": {},
   "source": [
    "## Autoencoder - 1\n",
    "\n",
    "This model takes flattened 8x8 patches, encodes to size 16x16, and decodes to size 8x8."
   ]
  },
  {
   "cell_type": "markdown",
   "metadata": {},
   "source": [
    "#### Dimensions"
   ]
  },
  {
   "cell_type": "code",
   "execution_count": 23,
   "metadata": {
    "collapsed": true
   },
   "outputs": [],
   "source": [
    "input_dim_1 = 8*8\n",
    "encoding_dim_1 = 16*16\n",
    "decoding_dim_1 = input_dim_1"
   ]
  },
  {
   "cell_type": "markdown",
   "metadata": {},
   "source": [
    "#### Single fully connected layer"
   ]
  },
  {
   "cell_type": "code",
   "execution_count": 24,
   "metadata": {
    "collapsed": true
   },
   "outputs": [],
   "source": [
    "input_img_1 = Input(shape=(input_dim_1,))\n",
    "encoded_1 = Dense(encoding_dim_1, activation='relu')(input_img_1)\n",
    "decoded_1 = Dense(decoding_dim_1, activation='sigmoid')(encoded_1)\n",
    "\n",
    "autoencoder_1 = Model(input_img_1, decoded_1)"
   ]
  },
  {
   "cell_type": "markdown",
   "metadata": {},
   "source": [
    "#### Encoder model"
   ]
  },
  {
   "cell_type": "code",
   "execution_count": 25,
   "metadata": {
    "collapsed": true
   },
   "outputs": [],
   "source": [
    "encoder_1 = Model(input_img_1, encoded_1)"
   ]
  },
  {
   "cell_type": "markdown",
   "metadata": {},
   "source": [
    "#### Configuring Autoencoder"
   ]
  },
  {
   "cell_type": "code",
   "execution_count": 26,
   "metadata": {
    "collapsed": true
   },
   "outputs": [],
   "source": [
    "autoencoder_1.compile(optimizer='adadelta', loss='mean_squared_error')"
   ]
  },
  {
   "cell_type": "markdown",
   "metadata": {},
   "source": [
    "#### Training Autoencoder"
   ]
  },
  {
   "cell_type": "code",
   "execution_count": 27,
   "metadata": {},
   "outputs": [
    {
     "name": "stdout",
     "output_type": "stream",
     "text": [
      "Train on 480000 samples, validate on 240000 samples\n",
      "Epoch 1/50\n",
      "480000/480000 [==============================] - 9s 19us/step - loss: 0.0150 - val_loss: 0.0058\n",
      "Epoch 2/50\n",
      "480000/480000 [==============================] - 9s 19us/step - loss: 0.0045 - val_loss: 0.0043\n",
      "Epoch 3/50\n",
      "480000/480000 [==============================] - 9s 19us/step - loss: 0.0036 - val_loss: 0.0037\n",
      "Epoch 4/50\n",
      "480000/480000 [==============================] - 9s 19us/step - loss: 0.0031 - val_loss: 0.0032\n",
      "Epoch 5/50\n",
      "480000/480000 [==============================] - 9s 19us/step - loss: 0.0027 - val_loss: 0.0029\n",
      "Epoch 6/50\n",
      "480000/480000 [==============================] - 9s 19us/step - loss: 0.0025 - val_loss: 0.0027\n",
      "Epoch 7/50\n",
      "480000/480000 [==============================] - 9s 19us/step - loss: 0.0023 - val_loss: 0.0025\n",
      "Epoch 8/50\n",
      "480000/480000 [==============================] - 9s 19us/step - loss: 0.0021 - val_loss: 0.0023\n",
      "Epoch 9/50\n",
      "480000/480000 [==============================] - 9s 19us/step - loss: 0.0020 - val_loss: 0.0022\n",
      "Epoch 10/50\n",
      "480000/480000 [==============================] - 9s 19us/step - loss: 0.0018 - val_loss: 0.0021\n",
      "Epoch 11/50\n",
      "480000/480000 [==============================] - 9s 19us/step - loss: 0.0018 - val_loss: 0.0020\n",
      "Epoch 12/50\n",
      "480000/480000 [==============================] - 9s 19us/step - loss: 0.0017 - val_loss: 0.0019\n",
      "Epoch 13/50\n",
      "480000/480000 [==============================] - 9s 19us/step - loss: 0.0016 - val_loss: 0.0018\n",
      "Epoch 14/50\n",
      "480000/480000 [==============================] - 9s 19us/step - loss: 0.0015 - val_loss: 0.0017\n",
      "Epoch 15/50\n",
      "480000/480000 [==============================] - 9s 19us/step - loss: 0.0015 - val_loss: 0.0017\n",
      "Epoch 16/50\n",
      "480000/480000 [==============================] - 9s 19us/step - loss: 0.0014 - val_loss: 0.0016\n",
      "Epoch 17/50\n",
      "480000/480000 [==============================] - 9s 19us/step - loss: 0.0014 - val_loss: 0.0016\n",
      "Epoch 18/50\n",
      "480000/480000 [==============================] - 9s 19us/step - loss: 0.0013 - val_loss: 0.0015\n",
      "Epoch 19/50\n",
      "480000/480000 [==============================] - 9s 19us/step - loss: 0.0013 - val_loss: 0.0015\n",
      "Epoch 20/50\n",
      "480000/480000 [==============================] - 9s 19us/step - loss: 0.0012 - val_loss: 0.0014\n",
      "Epoch 21/50\n",
      "480000/480000 [==============================] - 9s 19us/step - loss: 0.0012 - val_loss: 0.0014\n",
      "Epoch 22/50\n",
      "480000/480000 [==============================] - 10s 20us/step - loss: 0.0012 - val_loss: 0.0014\n",
      "Epoch 23/50\n",
      "480000/480000 [==============================] - 9s 20us/step - loss: 0.0011 - val_loss: 0.0013\n",
      "Epoch 24/50\n",
      "480000/480000 [==============================] - 10s 21us/step - loss: 0.0011 - val_loss: 0.0013\n",
      "Epoch 25/50\n",
      "480000/480000 [==============================] - 9s 19us/step - loss: 0.0011 - val_loss: 0.0012\n",
      "Epoch 26/50\n",
      "480000/480000 [==============================] - 9s 19us/step - loss: 0.0010 - val_loss: 0.0012\n",
      "Epoch 27/50\n",
      "480000/480000 [==============================] - 9s 19us/step - loss: 9.9483e-04 - val_loss: 0.0012\n",
      "Epoch 28/50\n",
      "480000/480000 [==============================] - 9s 19us/step - loss: 9.6627e-04 - val_loss: 0.0012\n",
      "Epoch 29/50\n",
      "480000/480000 [==============================] - 9s 19us/step - loss: 9.3863e-04 - val_loss: 0.0011\n",
      "Epoch 30/50\n",
      "480000/480000 [==============================] - 9s 19us/step - loss: 9.1212e-04 - val_loss: 0.0011\n",
      "Epoch 31/50\n",
      "480000/480000 [==============================] - 9s 19us/step - loss: 8.8675e-04 - val_loss: 0.0011\n",
      "Epoch 32/50\n",
      "480000/480000 [==============================] - 9s 19us/step - loss: 8.6259e-04 - val_loss: 0.0011\n",
      "Epoch 33/50\n",
      "480000/480000 [==============================] - 9s 19us/step - loss: 8.3969e-04 - val_loss: 0.0010\n",
      "Epoch 34/50\n",
      "480000/480000 [==============================] - 9s 19us/step - loss: 8.1815e-04 - val_loss: 9.9940e-04\n",
      "Epoch 35/50\n",
      "480000/480000 [==============================] - 9s 19us/step - loss: 7.9792e-04 - val_loss: 9.7690e-04\n",
      "Epoch 36/50\n",
      "480000/480000 [==============================] - 9s 19us/step - loss: 7.7898e-04 - val_loss: 9.5815e-04\n",
      "Epoch 37/50\n",
      "480000/480000 [==============================] - 9s 19us/step - loss: 7.6136e-04 - val_loss: 9.3715e-04\n",
      "Epoch 38/50\n",
      "480000/480000 [==============================] - 9s 19us/step - loss: 7.4486e-04 - val_loss: 9.2034e-04\n",
      "Epoch 39/50\n",
      "480000/480000 [==============================] - 10s 20us/step - loss: 7.2959e-04 - val_loss: 9.0431e-04\n",
      "Epoch 40/50\n",
      "480000/480000 [==============================] - 9s 19us/step - loss: 7.1530e-04 - val_loss: 8.9469e-04\n",
      "Epoch 41/50\n",
      "480000/480000 [==============================] - 9s 19us/step - loss: 7.0202e-04 - val_loss: 8.7725e-04\n",
      "Epoch 42/50\n",
      "480000/480000 [==============================] - 9s 19us/step - loss: 6.8959e-04 - val_loss: 8.6112e-04\n",
      "Epoch 43/50\n",
      "480000/480000 [==============================] - 9s 19us/step - loss: 6.7798e-04 - val_loss: 8.4925e-04\n",
      "Epoch 44/50\n",
      "480000/480000 [==============================] - 9s 19us/step - loss: 6.6711e-04 - val_loss: 8.3650e-04\n",
      "Epoch 45/50\n",
      "480000/480000 [==============================] - 9s 19us/step - loss: 6.5684e-04 - val_loss: 8.2594e-04\n",
      "Epoch 46/50\n",
      "480000/480000 [==============================] - 9s 19us/step - loss: 6.4726e-04 - val_loss: 8.1479e-04\n",
      "Epoch 47/50\n",
      "480000/480000 [==============================] - 9s 19us/step - loss: 6.3816e-04 - val_loss: 8.0640e-04\n",
      "Epoch 48/50\n",
      "480000/480000 [==============================] - 9s 19us/step - loss: 6.2954e-04 - val_loss: 7.9434e-04\n",
      "Epoch 49/50\n",
      "480000/480000 [==============================] - 9s 19us/step - loss: 6.2139e-04 - val_loss: 7.8618e-04\n",
      "Epoch 50/50\n",
      "480000/480000 [==============================] - 9s 19us/step - loss: 6.1369e-04 - val_loss: 7.7596e-04\n"
     ]
    }
   ],
   "source": [
    "history_1 = autoencoder_1.fit(\n",
    "    clean_patches_train_8, clean_patches_train_8,\n",
    "    epochs = 50,\n",
    "    batch_size = 256,\n",
    "    shuffle = True,\n",
    "    validation_data = (clean_patches_val_8, clean_patches_val_8))"
   ]
  },
  {
   "cell_type": "markdown",
   "metadata": {},
   "source": [
    "#### Plotting the loss"
   ]
  },
  {
   "cell_type": "code",
   "execution_count": 28,
   "metadata": {},
   "outputs": [
    {
     "name": "stdout",
     "output_type": "stream",
     "text": [
      "dict_keys(['val_loss', 'loss'])\n"
     ]
    },
    {
     "data": {
      "image/png": "[encoded data removed]",
      "text/plain": [
       "<matplotlib.figure.Figure at 0x1a99c7f29b0>"
      ]
     },
     "metadata": {},
     "output_type": "display_data"
    }
   ],
   "source": [
    "print (history_1.history.keys())\n",
    "\n",
    "plt.plot(history_1.history['loss'])\n",
    "plt.plot(history_1.history['val_loss'])\n",
    "plt.title('model loss')\n",
    "plt.ylabel('loss')\n",
    "plt.xlabel('epoch')\n",
    "plt.legend(['train', 'test'], loc='upper left')\n",
    "plt.show()"
   ]
  },
  {
   "cell_type": "markdown",
   "metadata": {},
   "source": [
    "#### Output of encoding layer"
   ]
  },
  {
   "cell_type": "code",
   "execution_count": 29,
   "metadata": {},
   "outputs": [
    {
     "name": "stdout",
     "output_type": "stream",
     "text": [
      "(480000, 256)\n",
      "(240000, 256)\n"
     ]
    }
   ],
   "source": [
    "encoded_imgs_1 = encoder_1.predict(clean_patches_train_8)\n",
    "encoded_imgs_2 = encoder_1.predict(clean_patches_val_8)\n",
    "print (encoded_imgs_1.shape)\n",
    "print(encoded_imgs_2.shape)"
   ]
  },
  {
   "cell_type": "markdown",
   "metadata": {},
   "source": [
    "## Autoencoder - 2\n",
    "\n",
    "Model takes flattened 16x16 patches, encodes to size 32x32, and decodes to size 16x16"
   ]
  },
  {
   "cell_type": "markdown",
   "metadata": {},
   "source": [
    "#### Dimensions"
   ]
  },
  {
   "cell_type": "code",
   "execution_count": 30,
   "metadata": {
    "collapsed": true
   },
   "outputs": [],
   "source": [
    "input_dim_2 = 16*16\n",
    "encoding_dim_2 = 32*32\n",
    "decoding_dim_2 = input_dim_2"
   ]
  },
  {
   "cell_type": "markdown",
   "metadata": {},
   "source": [
    "#### Single fully connected layer"
   ]
  },
  {
   "cell_type": "code",
   "execution_count": 31,
   "metadata": {
    "collapsed": true
   },
   "outputs": [],
   "source": [
    "input_img_2 = Input(shape=(input_dim_2,))\n",
    "encoded_2 = Dense(encoding_dim_2, activation='relu')(input_img_2)\n",
    "decoded_2 = Dense(decoding_dim_2, activation='sigmoid')(encoded_2)\n",
    "\n",
    "autoencoder_2 = Model(input_img_2, decoded_2)"
   ]
  },
  {
   "cell_type": "markdown",
   "metadata": {},
   "source": [
    "#### Encoder model"
   ]
  },
  {
   "cell_type": "code",
   "execution_count": 32,
   "metadata": {
    "collapsed": true
   },
   "outputs": [],
   "source": [
    "encoder_2 = Model(input_img_2, encoded_2)"
   ]
  },
  {
   "cell_type": "markdown",
   "metadata": {},
   "source": [
    "#### Configuring Autoencoder"
   ]
  },
  {
   "cell_type": "code",
   "execution_count": 33,
   "metadata": {
    "collapsed": true
   },
   "outputs": [],
   "source": [
    "autoencoder_2.compile(optimizer='adadelta', loss='mean_squared_error')"
   ]
  },
  {
   "cell_type": "markdown",
   "metadata": {},
   "source": [
    "#### Dividing data into training and validation"
   ]
  },
  {
   "cell_type": "code",
   "execution_count": 34,
   "metadata": {},
   "outputs": [],
   "source": [
    "# encoded_imgs_length = encoded_imgs_1.shape[0]\n",
    "# one_third = int(encoded_imgs_length / 3)\n",
    "# train_data_2 = encoded_imgs_1[:2*one_third]\n",
    "# val_data_2 = encoded_imgs_1[2*one_third:]\n",
    "# print(train_data_2.shape)\n",
    "# print(val_data_2.shape)\n"
   ]
  },
  {
   "cell_type": "markdown",
   "metadata": {},
   "source": [
    "#### Training Autoencoder"
   ]
  },
  {
   "cell_type": "code",
   "execution_count": 35,
   "metadata": {},
   "outputs": [
    {
     "name": "stdout",
     "output_type": "stream",
     "text": [
      "Train on 480000 samples, validate on 240000 samples\n",
      "Epoch 1/50\n",
      "480000/480000 [==============================] - 73s 152us/step - loss: 0.1014 - val_loss: 0.0993\n",
      "Epoch 2/50\n",
      "480000/480000 [==============================] - 73s 152us/step - loss: 0.0969 - val_loss: 0.0983\n",
      "Epoch 3/50\n",
      "480000/480000 [==============================] - 71s 147us/step - loss: 0.0961 - val_loss: 0.0976\n",
      "Epoch 4/50\n",
      "480000/480000 [==============================] - 70s 146us/step - loss: 0.0955 - val_loss: 0.0972\n",
      "Epoch 5/50\n",
      "480000/480000 [==============================] - 71s 148us/step - loss: 0.0952 - val_loss: 0.0969\n",
      "Epoch 6/50\n",
      "480000/480000 [==============================] - 71s 147us/step - loss: 0.0949 - val_loss: 0.0966\n",
      "Epoch 7/50\n",
      "480000/480000 [==============================] - 70s 146us/step - loss: 0.0946 - val_loss: 0.0964\n",
      "Epoch 8/50\n",
      "480000/480000 [==============================] - 70s 146us/step - loss: 0.0945 - val_loss: 0.0962\n",
      "Epoch 9/50\n",
      "480000/480000 [==============================] - 70s 146us/step - loss: 0.0943 - val_loss: 0.0961\n",
      "Epoch 10/50\n",
      "480000/480000 [==============================] - 70s 147us/step - loss: 0.0942 - val_loss: 0.0960\n",
      "Epoch 11/50\n",
      "480000/480000 [==============================] - 71s 147us/step - loss: 0.0941 - val_loss: 0.0959\n",
      "Epoch 12/50\n",
      "480000/480000 [==============================] - 70s 146us/step - loss: 0.0940 - val_loss: 0.0958\n",
      "Epoch 13/50\n",
      "480000/480000 [==============================] - 72s 149us/step - loss: 0.0939 - val_loss: 0.0957\n",
      "Epoch 14/50\n",
      "480000/480000 [==============================] - 70s 147us/step - loss: 0.0938 - val_loss: 0.0956\n",
      "Epoch 15/50\n",
      "480000/480000 [==============================] - 70s 146us/step - loss: 0.0938 - val_loss: 0.0956\n",
      "Epoch 16/50\n",
      "480000/480000 [==============================] - 71s 149us/step - loss: 0.0937 - val_loss: 0.0955\n",
      "Epoch 17/50\n",
      "480000/480000 [==============================] - 71s 148us/step - loss: 0.0936 - val_loss: 0.0954\n",
      "Epoch 18/50\n",
      "480000/480000 [==============================] - 70s 146us/step - loss: 0.0936 - val_loss: 0.0954\n",
      "Epoch 19/50\n",
      "480000/480000 [==============================] - 71s 147us/step - loss: 0.0936 - val_loss: 0.0954\n",
      "Epoch 20/50\n",
      "480000/480000 [==============================] - 70s 146us/step - loss: 0.0935 - val_loss: 0.0953\n",
      "Epoch 21/50\n",
      "480000/480000 [==============================] - 70s 145us/step - loss: 0.0935 - val_loss: 0.0953\n",
      "Epoch 22/50\n",
      "480000/480000 [==============================] - 70s 146us/step - loss: 0.0934 - val_loss: 0.0952\n",
      "Epoch 23/50\n",
      "480000/480000 [==============================] - 70s 145us/step - loss: 0.0934 - val_loss: 0.0952\n",
      "Epoch 24/50\n",
      "480000/480000 [==============================] - 70s 146us/step - loss: 0.0934 - val_loss: 0.0952\n",
      "Epoch 25/50\n",
      "480000/480000 [==============================] - 70s 145us/step - loss: 0.0934 - val_loss: 0.0952\n",
      "Epoch 26/50\n",
      "480000/480000 [==============================] - 70s 146us/step - loss: 0.0933 - val_loss: 0.0951\n",
      "Epoch 27/50\n",
      "480000/480000 [==============================] - 71s 147us/step - loss: 0.0933 - val_loss: 0.0951\n",
      "Epoch 28/50\n",
      "480000/480000 [==============================] - 71s 147us/step - loss: 0.0933 - val_loss: 0.0951\n",
      "Epoch 29/50\n",
      "480000/480000 [==============================] - 71s 147us/step - loss: 0.0933 - val_loss: 0.0951\n",
      "Epoch 30/50\n",
      "480000/480000 [==============================] - 71s 149us/step - loss: 0.0933 - val_loss: 0.0950\n",
      "Epoch 31/50\n",
      "480000/480000 [==============================] - 70s 147us/step - loss: 0.0932 - val_loss: 0.0950\n",
      "Epoch 32/50\n",
      "480000/480000 [==============================] - 69s 145us/step - loss: 0.0932 - val_loss: 0.0950\n",
      "Epoch 33/50\n",
      "480000/480000 [==============================] - 70s 145us/step - loss: 0.0932 - val_loss: 0.0950\n",
      "Epoch 34/50\n",
      "480000/480000 [==============================] - 70s 145us/step - loss: 0.0932 - val_loss: 0.0950\n",
      "Epoch 35/50\n",
      "480000/480000 [==============================] - 71s 147us/step - loss: 0.0932 - val_loss: 0.0950\n",
      "Epoch 36/50\n",
      "480000/480000 [==============================] - 70s 146us/step - loss: 0.0932 - val_loss: 0.0950\n",
      "Epoch 37/50\n",
      "480000/480000 [==============================] - 69s 145us/step - loss: 0.0932 - val_loss: 0.0949\n",
      "Epoch 38/50\n",
      "480000/480000 [==============================] - 70s 145us/step - loss: 0.0931 - val_loss: 0.0949\n",
      "Epoch 39/50\n",
      "480000/480000 [==============================] - 70s 146us/step - loss: 0.0931 - val_loss: 0.0949\n",
      "Epoch 40/50\n",
      "480000/480000 [==============================] - 69s 144us/step - loss: 0.0931 - val_loss: 0.0949\n",
      "Epoch 41/50\n",
      "480000/480000 [==============================] - 69s 145us/step - loss: 0.0931 - val_loss: 0.0949\n",
      "Epoch 42/50\n",
      "480000/480000 [==============================] - 69s 145us/step - loss: 0.0931 - val_loss: 0.0949\n",
      "Epoch 43/50\n",
      "480000/480000 [==============================] - 70s 146us/step - loss: 0.0931 - val_loss: 0.0949\n",
      "Epoch 44/50\n",
      "480000/480000 [==============================] - 70s 145us/step - loss: 0.0931 - val_loss: 0.0949\n",
      "Epoch 45/50\n",
      "480000/480000 [==============================] - 69s 145us/step - loss: 0.0931 - val_loss: 0.0949\n",
      "Epoch 46/50\n",
      "480000/480000 [==============================] - 69s 144us/step - loss: 0.0931 - val_loss: 0.0948\n",
      "Epoch 47/50\n",
      "480000/480000 [==============================] - 70s 146us/step - loss: 0.0931 - val_loss: 0.0948\n",
      "Epoch 48/50\n",
      "480000/480000 [==============================] - 71s 148us/step - loss: 0.0931 - val_loss: 0.0948\n",
      "Epoch 49/50\n",
      "480000/480000 [==============================] - 69s 145us/step - loss: 0.0930 - val_loss: 0.0948\n",
      "Epoch 50/50\n",
      "480000/480000 [==============================] - 70s 145us/step - loss: 0.0930 - val_loss: 0.0948\n"
     ]
    }
   ],
   "source": [
    "history_2 = autoencoder_2.fit(\n",
    "    encoded_imgs_1, encoded_imgs_1,\n",
    "    epochs = 50,\n",
    "    batch_size = 256,\n",
    "    shuffle = True,\n",
    "    validation_data = (encoded_imgs_2, encoded_imgs_2))"
   ]
  },
  {
   "cell_type": "markdown",
   "metadata": {},
   "source": [
    "#### Plotting the loss"
   ]
  },
  {
   "cell_type": "code",
   "execution_count": 36,
   "metadata": {},
   "outputs": [
    {
     "name": "stdout",
     "output_type": "stream",
     "text": [
      "dict_keys(['val_loss', 'loss'])\n"
     ]
    },
    {
     "data": {
      "image/png": "[encoded data removed]",
      "text/plain": [
       "<matplotlib.figure.Figure at 0x1a99dc74e10>"
      ]
     },
     "metadata": {},
     "output_type": "display_data"
    }
   ],
   "source": [
    "print (history_2.history.keys())\n",
    "\n",
    "plt.plot(history_2.history['loss'])\n",
    "plt.plot(history_2.history['val_loss'])\n",
    "plt.title('model loss')\n",
    "plt.ylabel('loss')\n",
    "plt.xlabel('epoch')\n",
    "plt.legend(['train', 'test'], loc='upper left')\n",
    "plt.show()"
   ]
  },
  {
   "cell_type": "markdown",
   "metadata": {},
   "source": [
    "Less testing (validation) loss could be because we have trained this encoder on the same Since previous encoder the training and testing data given"
   ]
  },
  {
   "cell_type": "markdown",
   "metadata": {},
   "source": [
    "## Stacked Sparse Denoising Autoencoder\n",
    "\n",
    "The SSDA model now will take patches of size 8x8 as input. The first encoding layer expands an 8x8 patch to 16x16. The second encoding layer expands a 16x16 patch to 32x32. We then introduce the two decoding layers, which decrease the image from 32x32 to 16x16 to 8x8. \n",
    "\n",
    "The purpose of this model is take a noisy 8x8 image as input and return a clean 8x8 image as output.\n",
    "The weights of the two encoding layers will be initialized with the encoding layer weights that were saved from the corresponding single autoencoder models above."
   ]
  },
  {
   "cell_type": "markdown",
   "metadata": {},
   "source": [
    "#### Dimensions"
   ]
  },
  {
   "cell_type": "code",
   "execution_count": 37,
   "metadata": {
    "collapsed": true
   },
   "outputs": [],
   "source": [
    "input_dim = 8*8\n",
    "encoding_dim1 = 16*16\n",
    "encoding_dim2 = 32*32\n",
    "decoding_dim1 = encoding_dim1\n",
    "decoding_dim2 = input_dim"
   ]
  },
  {
   "cell_type": "markdown",
   "metadata": {},
   "source": [
    "#### Stack of layers"
   ]
  },
  {
   "cell_type": "code",
   "execution_count": 38,
   "metadata": {
    "collapsed": true
   },
   "outputs": [],
   "source": [
    "input_img = Input(shape=(input_dim,))\n",
    "\n",
    "encoded1 = Dense(encoding_dim1, activation='relu')(input_img)\n",
    "encoded2 = Dense(encoding_dim2, activation='relu')(encoded1)\n",
    "\n",
    "decoded1 = Dense(decoding_dim1, activation='sigmoid')(encoded2)\n",
    "decoded2 = Dense(decoding_dim2, activation='sigmoid')(decoded1)\n",
    "\n",
    "autoencoder = Model(input_img, decoded2)"
   ]
  },
  {
   "cell_type": "markdown",
   "metadata": {},
   "source": [
    "#### Encoder model"
   ]
  },
  {
   "cell_type": "code",
   "execution_count": 39,
   "metadata": {
    "collapsed": true
   },
   "outputs": [],
   "source": [
    "encoder1 = Model(input_img, encoded1)\n",
    "\n",
    "encoded_img1 = Input(shape=(encoding_dim1,))\n",
    "encoded2_layer = autoencoder.layers[-3]\n",
    "encoder2 = Model(encoded_img1, encoded2_layer(encoded_img1))\n",
    "\n",
    "encoder1.set_weights(encoder_1.get_weights())\n",
    "encoder2.set_weights(encoder_2.get_weights())"
   ]
  },
  {
   "cell_type": "markdown",
   "metadata": {},
   "source": [
    "#### Configuring Autoencoder"
   ]
  },
  {
   "cell_type": "code",
   "execution_count": 40,
   "metadata": {
    "collapsed": true
   },
   "outputs": [],
   "source": [
    "autoencoder.compile(optimizer='adadelta', loss='mean_squared_error')"
   ]
  },
  {
   "cell_type": "markdown",
   "metadata": {},
   "source": [
    "#### Training Autoencoder"
   ]
  },
  {
   "cell_type": "code",
   "execution_count": 41,
   "metadata": {},
   "outputs": [
    {
     "name": "stdout",
     "output_type": "stream",
     "text": [
      "Train on 480000 samples, validate on 240000 samples\n",
      "Epoch 1/50\n",
      "480000/480000 [==============================] - 75s 157us/step - loss: 0.0083 - val_loss: 0.0059\n",
      "Epoch 2/50\n",
      "480000/480000 [==============================] - 76s 158us/step - loss: 0.0049 - val_loss: 0.0049\n",
      "Epoch 3/50\n",
      "480000/480000 [==============================] - 76s 159us/step - loss: 0.0043 - val_loss: 0.0044\n",
      "Epoch 4/50\n",
      "480000/480000 [==============================] - 75s 157us/step - loss: 0.0039 - val_loss: 0.0040\n",
      "Epoch 5/50\n",
      "480000/480000 [==============================] - 76s 157us/step - loss: 0.0037 - val_loss: 0.0038\n",
      "Epoch 6/50\n",
      "480000/480000 [==============================] - 76s 158us/step - loss: 0.0035 - val_loss: 0.0037\n",
      "Epoch 7/50\n",
      "480000/480000 [==============================] - 76s 158us/step - loss: 0.0034 - val_loss: 0.0042\n",
      "Epoch 8/50\n",
      "480000/480000 [==============================] - 76s 158us/step - loss: 0.0033 - val_loss: 0.0035\n",
      "Epoch 9/50\n",
      "480000/480000 [==============================] - 76s 158us/step - loss: 0.0032 - val_loss: 0.0034\n",
      "Epoch 10/50\n",
      "480000/480000 [==============================] - 76s 158us/step - loss: 0.0032 - val_loss: 0.0034\n",
      "Epoch 11/50\n",
      "480000/480000 [==============================] - 76s 157us/step - loss: 0.0031 - val_loss: 0.0034\n",
      "Epoch 12/50\n",
      "480000/480000 [==============================] - 76s 158us/step - loss: 0.0031 - val_loss: 0.0033\n",
      "Epoch 13/50\n",
      "480000/480000 [==============================] - 76s 158us/step - loss: 0.0030 - val_loss: 0.0032\n",
      "Epoch 14/50\n",
      "480000/480000 [==============================] - 80s 167us/step - loss: 0.0030 - val_loss: 0.0032\n",
      "Epoch 15/50\n",
      "480000/480000 [==============================] - 77s 160us/step - loss: 0.0030 - val_loss: 0.0032\n",
      "Epoch 16/50\n",
      "480000/480000 [==============================] - 76s 158us/step - loss: 0.0029 - val_loss: 0.0031\n",
      "Epoch 17/50\n",
      "480000/480000 [==============================] - 76s 158us/step - loss: 0.0029 - val_loss: 0.0031\n",
      "Epoch 18/50\n",
      "480000/480000 [==============================] - 77s 159us/step - loss: 0.0029 - val_loss: 0.0031\n",
      "Epoch 19/50\n",
      "480000/480000 [==============================] - 76s 158us/step - loss: 0.0029 - val_loss: 0.0031\n",
      "Epoch 20/50\n",
      "480000/480000 [==============================] - 76s 158us/step - loss: 0.0029 - val_loss: 0.0030\n",
      "Epoch 21/50\n",
      "480000/480000 [==============================] - 76s 158us/step - loss: 0.0028 - val_loss: 0.0030\n",
      "Epoch 22/50\n",
      "480000/480000 [==============================] - 77s 160us/step - loss: 0.0028 - val_loss: 0.0030\n",
      "Epoch 23/50\n",
      "480000/480000 [==============================] - 76s 158us/step - loss: 0.0028 - val_loss: 0.0030\n",
      "Epoch 24/50\n",
      "480000/480000 [==============================] - 76s 158us/step - loss: 0.0028 - val_loss: 0.0030\n",
      "Epoch 25/50\n",
      "480000/480000 [==============================] - 76s 158us/step - loss: 0.0028 - val_loss: 0.0030\n",
      "Epoch 26/50\n",
      "480000/480000 [==============================] - 76s 159us/step - loss: 0.0028 - val_loss: 0.0030\n",
      "Epoch 27/50\n",
      "480000/480000 [==============================] - 76s 158us/step - loss: 0.0028 - val_loss: 0.0030\n",
      "Epoch 28/50\n",
      "480000/480000 [==============================] - 76s 159us/step - loss: 0.0028 - val_loss: 0.0030\n",
      "Epoch 29/50\n",
      "480000/480000 [==============================] - 76s 159us/step - loss: 0.0027 - val_loss: 0.0030\n",
      "Epoch 30/50\n",
      "480000/480000 [==============================] - 77s 161us/step - loss: 0.0027 - val_loss: 0.0029\n",
      "Epoch 31/50\n",
      "480000/480000 [==============================] - 76s 158us/step - loss: 0.0027 - val_loss: 0.0029\n",
      "Epoch 32/50\n",
      "480000/480000 [==============================] - 76s 158us/step - loss: 0.0027 - val_loss: 0.0030\n",
      "Epoch 33/50\n",
      "480000/480000 [==============================] - 76s 159us/step - loss: 0.0027 - val_loss: 0.0029\n",
      "Epoch 34/50\n",
      "480000/480000 [==============================] - 76s 158us/step - loss: 0.0027 - val_loss: 0.0029\n",
      "Epoch 35/50\n",
      "480000/480000 [==============================] - 76s 158us/step - loss: 0.0027 - val_loss: 0.0029\n",
      "Epoch 36/50\n",
      "480000/480000 [==============================] - 76s 159us/step - loss: 0.0027 - val_loss: 0.0029\n",
      "Epoch 37/50\n",
      "480000/480000 [==============================] - 76s 158us/step - loss: 0.0027 - val_loss: 0.0029\n",
      "Epoch 38/50\n",
      "480000/480000 [==============================] - 77s 159us/step - loss: 0.0027 - val_loss: 0.0029\n",
      "Epoch 39/50\n",
      "480000/480000 [==============================] - 76s 158us/step - loss: 0.0027 - val_loss: 0.0028\n",
      "Epoch 40/50\n",
      "480000/480000 [==============================] - 75s 157us/step - loss: 0.0027 - val_loss: 0.0028\n",
      "Epoch 41/50\n",
      "480000/480000 [==============================] - 76s 158us/step - loss: 0.0027 - val_loss: 0.0029\n",
      "Epoch 42/50\n",
      "480000/480000 [==============================] - 77s 160us/step - loss: 0.0026 - val_loss: 0.0028\n",
      "Epoch 43/50\n",
      "480000/480000 [==============================] - 76s 158us/step - loss: 0.0026 - val_loss: 0.0028\n",
      "Epoch 44/50\n",
      "480000/480000 [==============================] - 76s 158us/step - loss: 0.0026 - val_loss: 0.0028\n",
      "Epoch 45/50\n",
      "480000/480000 [==============================] - 75s 157us/step - loss: 0.0026 - val_loss: 0.0028\n",
      "Epoch 46/50\n",
      "480000/480000 [==============================] - 76s 159us/step - loss: 0.0026 - val_loss: 0.0028\n",
      "Epoch 47/50\n",
      "480000/480000 [==============================] - 76s 157us/step - loss: 0.0026 - val_loss: 0.0028\n",
      "Epoch 48/50\n",
      "480000/480000 [==============================] - 75s 157us/step - loss: 0.0026 - val_loss: 0.0028\n",
      "Epoch 49/50\n",
      "480000/480000 [==============================] - 76s 158us/step - loss: 0.0026 - val_loss: 0.0028\n",
      "Epoch 50/50\n",
      "480000/480000 [==============================] - 77s 161us/step - loss: 0.0026 - val_loss: 0.0028\n"
     ]
    }
   ],
   "source": [
    "history = autoencoder.fit(\n",
    "    noisy_patches_train_8, clean_patches_train_8,\n",
    "    epochs = 50,\n",
    "    batch_size = 256,\n",
    "    shuffle = True,\n",
    "    validation_data = (noisy_patches_val_8, clean_patches_val_8))"
   ]
  },
  {
   "cell_type": "markdown",
   "metadata": {},
   "source": [
    "#### Plotting the loss"
   ]
  },
  {
   "cell_type": "code",
   "execution_count": 42,
   "metadata": {},
   "outputs": [
    {
     "name": "stdout",
     "output_type": "stream",
     "text": [
      "dict_keys(['val_loss', 'loss'])\n"
     ]
    },
    {
     "data": {
      "image/png": "[encoded data removed]",
      "text/plain": [
       "<matplotlib.figure.Figure at 0x1a99d930550>"
      ]
     },
     "metadata": {},
     "output_type": "display_data"
    }
   ],
   "source": [
    "print (history.history.keys())\n",
    "\n",
    "plt.plot(history.history['loss'])\n",
    "plt.plot(history.history['val_loss'])\n",
    "plt.title('model loss')\n",
    "plt.ylabel('loss')\n",
    "plt.xlabel('epoch')\n",
    "plt.legend(['train', 'test'], loc='upper left')\n",
    "plt.show()"
   ]
  },
  {
   "cell_type": "markdown",
   "metadata": {},
   "source": [
    "### Saving weights"
   ]
  },
  {
   "cell_type": "code",
   "execution_count": 43,
   "metadata": {
    "collapsed": true
   },
   "outputs": [],
   "source": [
    "autoencoder.save_weights(\"SSDA_weights.h5\")"
   ]
  },
  {
   "cell_type": "markdown",
   "metadata": {},
   "source": [
    "### Testing Data"
   ]
  },
  {
   "cell_type": "code",
   "execution_count": 44,
   "metadata": {
    "collapsed": true
   },
   "outputs": [],
   "source": [
    "denoised_patches_test_8 = autoencoder.predict(noisy_patches_test_8)"
   ]
  },
  {
   "cell_type": "markdown",
   "metadata": {},
   "source": [
    "### PSNR"
   ]
  },
  {
   "cell_type": "code",
   "execution_count": 45,
   "metadata": {
    "collapsed": true
   },
   "outputs": [],
   "source": [
    "import math"
   ]
  },
  {
   "cell_type": "code",
   "execution_count": 46,
   "metadata": {
    "collapsed": true
   },
   "outputs": [],
   "source": [
    "def calculate_mse(image1, image2):\n",
    "    squared_error = (image1-image2)**2\n",
    "    sum = np.sum(squared_error)\n",
    "    mse = sum / float(squared_error.size)    \n",
    "    return mse"
   ]
  },
  {
   "cell_type": "code",
   "execution_count": 47,
   "metadata": {
    "collapsed": true
   },
   "outputs": [],
   "source": [
    "MAX = 1 #We normalised the data\n",
    "def calculate_psnr(image1, image2):\n",
    "    return 20*math.log10(MAX) - 10*math.log10(calculate_mse(image1, image2))"
   ]
  },
  {
   "cell_type": "code",
   "execution_count": 48,
   "metadata": {
    "collapsed": true
   },
   "outputs": [],
   "source": [
    "def list_psnr(image_list_1, image_list_2):\n",
    "    list_psnr= []\n",
    "    for i in range(1000):\n",
    "        psnr = calculate_psnr(image_list_1[i], image_list_2[i])\n",
    "        list_psnr.append(psnr)\n",
    "    return list_psnr"
   ]
  },
  {
   "cell_type": "code",
   "execution_count": 49,
   "metadata": {
    "collapsed": true
   },
   "outputs": [],
   "source": [
    "psnr_noisy_clean = list_psnr(noisy_patches_test_8, clean_patches_test_8)\n",
    "psnr_denoised_clean = list_psnr(denoised_patches_test_8, clean_patches_test_8)"
   ]
  },
  {
   "cell_type": "code",
   "execution_count": 50,
   "metadata": {
    "collapsed": true
   },
   "outputs": [],
   "source": [
    "def plot_psnr(list1, list2):\n",
    "    plt.plot(list1)\n",
    "    plt.plot(list2)\n",
    "    plt.title('PSNRs')\n",
    "    plt.ylabel('psnr')\n",
    "    plt.xlabel('patches')\n",
    "    plt.legend(['noisy-clean', 'denoised-clean'], loc='upper left')\n",
    "    plt.show()"
   ]
  },
  {
   "cell_type": "code",
   "execution_count": 51,
   "metadata": {},
   "outputs": [
    {
     "data": {
      "image/png": "[encoded data removed]",
      "text/plain": [
       "<matplotlib.figure.Figure at 0x1a99fc7af28>"
      ]
     },
     "metadata": {},
     "output_type": "display_data"
    }
   ],
   "source": [
    "plot_psnr(psnr_noisy_clean, psnr_denoised_clean)"
   ]
  },
  {
   "cell_type": "code",
   "execution_count": null,
   "metadata": {
    "collapsed": true
   },
   "outputs": [],
   "source": []
  }
 ],
 "metadata": {
  "kernelspec": {
   "display_name": "Python 3",
   "language": "python",
   "name": "python3"
  },
  "language_info": {
   "codemirror_mode": {
    "name": "ipython",
    "version": 3
   },
   "file_extension": ".py",
   "mimetype": "text/x-python",
   "name": "python",
   "nbconvert_exporter": "python",
   "pygments_lexer": "ipython3",
   "version": "3.6.3"
  }
 },
 "nbformat": 4,
 "nbformat_minor": 2
}
